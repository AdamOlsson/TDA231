{
 "cells": [
  {
   "cell_type": "markdown",
   "metadata": {
    "colab_type": "text",
    "id": "2CJDqQbKIfxp"
   },
   "source": [
    "$\\qquad$ $\\qquad$$\\qquad$  **TDA 231 Machine Learning: Home Assignment 5 -- Clustering** <br />\n",
    "$\\qquad$ $\\qquad$$\\qquad$ **Goal: K-means, GMM, EM**<br />\n",
    "$\\qquad$ $\\qquad$$\\qquad$                   **Grader: Yuchong, Divya** <br />\n",
    "$\\qquad$ $\\qquad$$\\qquad$                     **Due Date: 29th May** <br />\n",
    "$\\qquad$ $\\qquad$$\\qquad$                   **Submitted by: Adam Olsson, 950418-3170, adaolss@student.chalmers.se and    Gabriel Lindeby, 19951027-1779, gablinde@student.chalmers.se** <br />\n",
    "\n",
    "\n",
    "---\n",
    "\n",
    "\n",
    "General guidelines:\n",
    "*   All solutions to theoretical and pratical problems must be submitted in this ipynb notebook, and equations wherever required, should be formatted using LaTeX math-mode.\n",
    "*   All discussion regarding practical problems, along with solutions and plots should be specified in this notebook. All plots/results should be visible such that the notebook do not have to be run. But the code in the notebook should reproduce the plots/results if we choose to do so.\n",
    "*   Your name, personal number and email address should be specified above.\n",
    "*   All tables and other additional information should be included in this notebook.\n",
    "*   **All the answers for theoretical questions must be filled in the cells created for you with \"Your answer here\" below each question, but feel free to add more cells if needed.**\n",
    "*   Before submitting, make sure that your code can run on another computer. That all plots can show on another computer including all your writing. It is good to check if your code can run here: https://colab.research.google.com.\n"
   ]
  },
  {
   "cell_type": "markdown",
   "metadata": {
    "colab_type": "text",
    "id": "i2SZprryJ3Yn"
   },
   "source": [
    "# Practical problems\n",
    "\n",
    "The follwing code might be useful for this excercise.\n",
    "\n",
    "```python\n",
    "import scipy.io\n",
    "mat = scipy.io.loadmat('hw5_p1a.mat')\n",
    "print (mat.keys())\n",
    "X = mat['X']\n",
    "```\n",
    "\n",
    "## [K-Means Implementation, 8 points]\n",
    "\n",
    "a. Implement the basic (linear) $k$-means algorithm as described in the lecture, using the euclidean distance. Use (uniformly) random points from the data as initialization for the centroids. Terminate the iterative procedure when the the cluster assignments do not change. [**2 pts**]\n",
    "\n",
    "b. Run your implementation on the matrix $X$ in **hw5_p1a.mat** with $k=2$. Each row of the matrix is an observation, and each column is a feature. Store the cluster assignment both after 2 iterations, and at convergence. Produce a scatter plot of the data with colors indicating the cluster assignments at convergence and highlight points that have changed assignment after the second iteration. [**2 pts**]\n",
    "\n",
    "c. Implement the kernel $k$-means algorithm as described in the lecture, using the Gaussian RBF-kernel. [**2 pts**]\n",
    "\n",
    "d. Run the linear $k$-means **and** your kernel $k$-means on **hw5_p1b.mat** with $k=2$. For the Gaussian RBF-kernel, use $\\sigma=0.2$. Produce scatter plots of the data, with color indicating the cluster assignment at convergence, one plot for each of the algorithms. [**2 pts**]"
   ]
  },
  {
   "cell_type": "markdown",
   "metadata": {
    "colab_type": "text",
    "id": "Czs7q4Y5UIUT"
   },
   "source": [
    "### Your answer here:"
   ]
  },
  {
   "cell_type": "code",
   "execution_count": 48,
   "metadata": {},
   "outputs": [
    {
     "name": "stdout",
     "output_type": "stream",
     "text": [
      "Centroids settles after 5 iterations.\n"
     ]
    },
    {
     "data": {
      "image/png": "[encoded data removed]",
      "text/plain": [
       "<Figure size 432x288 with 1 Axes>"
      ]
     },
     "metadata": {
      "needs_background": "light"
     },
     "output_type": "display_data"
    }
   ],
   "source": [
    "import numpy as np\n",
    "from numpy.random import uniform\n",
    "import matplotlib.pyplot as plt\n",
    "\n",
    "import scipy.io\n",
    "mat = scipy.io.loadmat('hw5_p1a.mat')\n",
    "#print (mat.keys())\n",
    "X = mat['X']\n",
    "\n",
    "def k_means(X, k=2):\n",
    "    (n, noFeat) = X.shape\n",
    "    \n",
    "    # randomly instantiate mu\n",
    "    mu = uniform(-5, 5, (k, noFeat))\n",
    "    \n",
    "    point_assignment_iter_2 = None\n",
    "    \n",
    "    mu_previous = None\n",
    "    no_iterations = 0\n",
    "    while not np.array_equal(mu_previous, mu):\n",
    "    \n",
    "        mu_previous = np.copy(mu)\n",
    "            \n",
    "        # Calculate distances to each centroid\n",
    "        distances = np.zeros((n,k))\n",
    "        for centroid in range(k):\n",
    "            distances[:, centroid] = euclidian_distance(X, mu[centroid,:])\n",
    "        \n",
    "        z = np.zeros((n, k))\n",
    "        \n",
    "        # assign each point to closest centroid\n",
    "        z[range(n), np.argmin(distances, axis=1)] = 1\n",
    "\n",
    "\n",
    "        # Get number of assigned points to each centroid\n",
    "        no_assigned_points = np.sum(z, axis=0)\n",
    "    \n",
    "        # Update center centroids\n",
    "        for centroid in range(k):\n",
    "            mu[centroid,:] = np.sum(X*np.expand_dims(z[:,centroid],axis=1), axis=0)/no_assigned_points[centroid]\n",
    "        \n",
    "        if no_iterations == 1:\n",
    "            point_assignment_iter_2 = z\n",
    "        \n",
    "        no_iterations += 1\n",
    "    \n",
    "    print(\"Centroids settles after {} iterations.\".format(no_iterations))\n",
    "    \n",
    "    \n",
    "    ## Plotting\n",
    "    has_changed_centroid = (point_assignment_iter_2 != z)[:,0].astype(int)\n",
    "    \n",
    "    class1 = []\n",
    "    class2 = []\n",
    "    hasChanged = []\n",
    "    for p in range(n):\n",
    "        if has_changed_centroid[p]:\n",
    "            hasChanged.append(X[p,:])\n",
    "        elif z[p,0] == 1:\n",
    "            class1.append(X[p,:])\n",
    "        elif z[p,1] == 1:\n",
    "            class2.append(X[p,:])\n",
    "    \n",
    "    class1 = np.array(class1)\n",
    "    class2 = np.array(class2)\n",
    "    hasChanged = np.array(hasChanged)\n",
    "\n",
    "    \n",
    "    fig, axes = plt.subplots(nrows=1,ncols=1)\n",
    "    axes.scatter(class1[:,0], class1[:,1], label='class1')\n",
    "    axes.scatter(class2[:,0], class2[:,1], label='class2')\n",
    "    axes.scatter(hasChanged[:,0], hasChanged[:,1], label='hasChanged')\n",
    "    axes.scatter(mu[:,0], mu[:,1], s=200, label='Centroids')\n",
    "    axes.legend()\n",
    "    plt.show()\n",
    "\n",
    "    \n",
    "def euclidian_distance(x, y):\n",
    "    return np.sqrt(np.sum(np.square(x-y), axis=1))\n",
    "\n",
    "\n",
    "k_means(X)\n"
   ]
  },
  {
   "cell_type": "code",
   "execution_count": 64,
   "metadata": {},
   "outputs": [
    {
     "name": "stdout",
     "output_type": "stream",
     "text": [
      "Convergence after 6 iterations.\n"
     ]
    },
    {
     "data": {
      "image/png": "[encoded data removed]",
      "text/plain": [
       "<Figure size 432x288 with 1 Axes>"
      ]
     },
     "metadata": {
      "needs_background": "light"
     },
     "output_type": "display_data"
    }
   ],
   "source": [
    "import numpy as np\n",
    "from numpy.random import randint\n",
    "import matplotlib.pyplot as plt\n",
    "\n",
    "import scipy.io\n",
    "mat = scipy.io.loadmat('hw5_p1b.mat')\n",
    "#print (mat.keys())\n",
    "Y = mat['X']\n",
    "\n",
    "def gaussian_rbf(x,y):\n",
    "    sigma = 0.2\n",
    "    L2 = np.linalg.norm((x-y), axis=1)\n",
    "    return np.array(np.exp(-np.square(L2)/(2*sigma)))\n",
    "\n",
    "def k_means_kernalized(X, k=2, kernel=gaussian_rbf):\n",
    "    (n, noFeat) = X.shape\n",
    "    \n",
    "    z_new = np.zeros((n,k))\n",
    "    \n",
    "    # Randomly assign points to centroids\n",
    "    for point in z_new:\n",
    "        point[randint(0,k)] = 1\n",
    "    \n",
    "    # While start here\n",
    "    z = None\n",
    "    convergence_iter = 0\n",
    "    while not np.array_equal(z_new, z):\n",
    "        z = z_new\n",
    "        N_per_class = np.sum(z, axis=0)\n",
    "\n",
    "        # Calculate term3 (last term in distance calculation)\n",
    "        term3 = np.zeros(k)\n",
    "        for m in range(n):\n",
    "            t31 = z[m,:]*z\n",
    "            t32 = kernel(X[m,:], X)\n",
    "            term3 += np.sum(t31*np.expand_dims(t32, axis=1), axis=0)\n",
    "        term3 /= np.square(N_per_class)\n",
    "\n",
    "        z_new = np.zeros((n,k))\n",
    "        for i, p in enumerate(X):\n",
    "            # Calculate distances to each centroid\n",
    "            t11 = np.expand_dims(p, axis=0)\n",
    "            term1 = kernel(t11,t11)\n",
    "\n",
    "            t21 = kernel(np.expand_dims(p, axis=0), X)\n",
    "            t22 = np.sum(z*np.expand_dims(t21, axis=1), axis=0)\n",
    "            term2 = t22*2/N_per_class\n",
    "\n",
    "            distances = term1 - term2 + term3\n",
    "\n",
    "            # Determine the closes one and assign the point\n",
    "            z_new[i, np.argmin(distances)] = 1\n",
    "        convergence_iter += 1\n",
    "    \n",
    "    print(\"Convergence after {} iterations.\".format(convergence_iter))\n",
    "    \n",
    "    # Plotting\n",
    "    class1 = X[z_new[:,0] == 1]\n",
    "    class2 = X[z_new[:,1] == 1]\n",
    "    \n",
    "    fig, axes = plt.subplots(nrows=1,ncols=1)\n",
    "    axes.scatter(class1[:,0], class1[:,1], label='class1')\n",
    "    axes.scatter(class2[:,0], class2[:,1], label='class2')\n",
    "    axes.legend()\n",
    "    plt.show()\n",
    "    \n",
    "\n",
    "k_means_kernalized(Y)"
   ]
  },
  {
   "cell_type": "markdown",
   "metadata": {
    "colab_type": "text",
    "id": "K6jdOJf_Ksf6"
   },
   "source": [
    "# GMM [4 pts]\n",
    "\n",
    "We will now consider mixture model. The probability of an observation $x \\in \\mathbb{R}^D$ is given by: $$p(x) = \\sum_{k=1}^{K} \\pi_k P(x|\\theta_k)$$ where $\\pi_k$ are the probabilities a priori and $P(x|\\theta_k)$ are multi-dimensional Gaussian characterized by their mean $\\mu_k$ and their co-variance matrix $\\Sigma_k$\n",
    ", i.e. $\\theta_k = (\\mu_k, \\Sigma_k)$.\n",
    "\n",
    "### Q 2.1.\n",
    "Plot the probability distribution $p(x)$ for D=1 , K = 2, $\\pi_1 = \\pi_2 = 0.5$ and $\\mu_1 = 1$, $\\mu_2 = 3$,$\\Sigma_1 = 1$,$ \\Sigma_2 = 10$. **[2 pts]**\n",
    "\n",
    "### Q 2.2.\n",
    "\n",
    "What is the posterior probability that an example $x=1.5$ was produced by the Gaussian $k=1$,i.e. $P(\\theta_1| x)$ ? **[2 pts]**"
   ]
  },
  {
   "cell_type": "markdown",
   "metadata": {
    "colab_type": "text",
    "id": "Nqn0528wUU8u"
   },
   "source": [
    "### Your answer here:\n",
    "\n",
    "### Q 2.1\n",
    "\n",
    "$$p(x| \\mu_{1} = 1, \\Sigma_{1}=1) = \\frac{1}{2\\pi^{\\frac{1}{2}} | 1 |^{\\frac{1}{2}}}e^{-\\frac{1}{2}(x-1)^T inv(1)(x-1)}$$\n",
    "$$p(x| \\mu_{2} = 3, \\Sigma_{2}=10) = \\frac{1}{2\\pi^{\\frac{1}{2}} | 10 |^{\\frac{1}{2}}}e^{-\\frac{1}{2}(x-10)^T inv(10)(x-10)}$$"
   ]
  },
  {
   "cell_type": "code",
   "execution_count": 122,
   "metadata": {},
   "outputs": [
    {
     "data": {
      "image/png": "[encoded data removed]",
      "text/plain": [
       "<Figure size 432x288 with 1 Axes>"
      ]
     },
     "metadata": {
      "needs_background": "light"
     },
     "output_type": "display_data"
    },
    {
     "data": {
      "image/png": "[encoded data removed]",
      "text/plain": [
       "<Figure size 432x288 with 1 Axes>"
      ]
     },
     "metadata": {
      "needs_background": "light"
     },
     "output_type": "display_data"
    },
    {
     "data": {
      "image/png": "[encoded data removed]",
      "text/plain": [
       "<Figure size 432x288 with 1 Axes>"
      ]
     },
     "metadata": {
      "needs_background": "light"
     },
     "output_type": "display_data"
    }
   ],
   "source": [
    "import matplotlib.pyplot as plt\n",
    "import numpy as np\n",
    "\n",
    "def P(x, mu, sigma, D=1):\n",
    "    t1 = 1/( np.power((2*3.1415), D)* np.sqrt(np.linalg.det(sigma)))\n",
    "    t2 = np.exp(-1/2 * np.transpose(x - mu)*np.linalg.inv(sigma)*(x - mu))\n",
    "    return t1*t2\n",
    "\n",
    "pi1 = pi2 = 0.5\n",
    "mu1 = np.array([[1]])\n",
    "sigma1 = np.array([[1]])\n",
    "mu2 = np.array([[3]])\n",
    "sigma2 = np.array([[10]])\n",
    "\n",
    "data = []\n",
    "data_k1 = []\n",
    "data_k2 = []\n",
    "x = np.arange(-3,8,0.1)\n",
    "for p in x:\n",
    "    p1 = pi1*P(p, mu1, sigma1)\n",
    "    p2 = pi2*P(p, mu2, sigma2)\n",
    "    data_k1.append(p1)\n",
    "    data_k2.append(p2)\n",
    "    data.append(np.sum(p1 + p2))\n",
    "\n",
    "data_k1 = np.array(data_k1).flatten()\n",
    "data_k2 = np.array(data_k2).flatten()\n",
    "\n",
    "\n",
    "fig1 = plt.figure()\n",
    "fig2 = plt.figure()\n",
    "fig3 = plt.figure()\n",
    "ax1 = fig1.add_subplot(111)\n",
    "ax2 = fig2.add_subplot(111)\n",
    "ax3 = fig3.add_subplot(111)\n",
    "\n",
    "ax1.set_xlabel('x')\n",
    "ax2.set_xlabel('x')\n",
    "ax3.set_xlabel('x')\n",
    "\n",
    "ax1.set_ylabel('p(x)')\n",
    "ax2.set_ylabel('p(x)')\n",
    "ax3.set_ylabel('p(x)')\n",
    "\n",
    "ax1.title.set_text('P(x | k=1) + P(x | k=2)')\n",
    "ax2.title.set_text('P(x | k=1)')\n",
    "ax3.title.set_text('P(x | k=2)')\n",
    "\n",
    "\n",
    "ax1.plot(x, data)\n",
    "ax2.plot(x, data_k1)\n",
    "ax3.plot(x, data_k2)\n",
    "\n",
    "plt.show()"
   ]
  },
  {
   "cell_type": "markdown",
   "metadata": {},
   "source": [
    "### Q 2.2\n",
    "\n",
    "$$ p(\\theta_{1}| x) = \\frac{p(\\theta_{1})p(x | \\theta_{1})}{p(\\theta_{1})p(x | \\theta_{1}) + p(\\theta_{2})p(x | \\theta_{2})} = \\frac{\\pi_{1}p(x | \\theta_{1})}{\\pi_{1}p(x | \\theta_{1}) + \\pi_{2}p(x | \\theta_{2})}$$"
   ]
  },
  {
   "cell_type": "code",
   "execution_count": 127,
   "metadata": {},
   "outputs": [
    {
     "name": "stdout",
     "output_type": "stream",
     "text": [
      "[0.75745788]\n"
     ]
    }
   ],
   "source": [
    "x = np.array([1.5])\n",
    "p1 = P(x, mu1, sigma1).flatten()\n",
    "p2 = P(x, mu2, sigma2).flatten()\n",
    "\n",
    "answer = pi1*p1 / (pi1*p1 + pi2*p2)\n",
    "\n",
    "print(answer)"
   ]
  },
  {
   "cell_type": "markdown",
   "metadata": {
    "colab_type": "text",
    "id": "Gp1tmMdZKtYS"
   },
   "source": [
    "# EM algorithm for GMM [8 pts]\n",
    "\n",
    "Assume that the property prices of Gotheburg follow a mixture of 2 Gaussians, of respective parameters $(\\mu_1, \\sigma_1^2)$ and $(\\mu_2, \\sigma_2^2)$.\n",
    "\n",
    "The table below lists the prices in million SEK of some real estate transactions:\n",
    "$$\\begin{array}{|c|c|c|c|}\n",
    "\\hline\n",
    "8& 1 & 4 & 3 & 4 & 5 & 7 & 5 & 3 & 5 \\\\ \\hline\n",
    "\\end{array}$$\n",
    "\n",
    "We will call $\\pi_1$ and $\\pi_2$ the coefficients of the two Gaussians in the mixture.\n",
    "\n",
    "### Q 3.1.\n",
    "\n",
    "Sort the items of the sample in ascending order and use the 5 smallest values for\n",
    "estimate by maximum likelihood $(\\mu_1, \\sigma_1^2)$ and 5 larger ones to estimate $(\\mu_2, \\sigma_2^2)$. Under these conditions, what values should logically be assigned to the weights $\\pi_1$ and $\\pi_2$? **[2 pts]**\n",
    "\n",
    "### Q 3.2.\n",
    "\n",
    "Starting from $\\theta^0 = \\{\\mu_1, \\sigma^2_1, \\pi_1, \\mu_2, \\sigma^2_2, \\pi_2\\}$ obtained from the previous question, estimate the value of responsibilities $\\gamma(z_{nk})$ according to the EM algorithm. **[3 pts]**\n",
    "\n",
    "### Q 3.3.\n",
    "Re-estimate the parameters i.e. calculate $\\theta^1$, using the current responsibilities.**[3 pts]**"
   ]
  },
  {
   "cell_type": "markdown",
   "metadata": {
    "colab_type": "text",
    "id": "3LPxv3VVUabd"
   },
   "source": [
    "### Your answer here:\n",
    "\n",
    "### Q 3.1"
   ]
  },
  {
   "cell_type": "code",
   "execution_count": 247,
   "metadata": {},
   "outputs": [
    {
     "name": "stdout",
     "output_type": "stream",
     "text": [
      "Data: [1 3 3 4 4 5 5 5 7 8]\n",
      "First distribition: (3.0, 1.2) \n",
      "Second distribution: (6.0, 1.6)\n"
     ]
    }
   ],
   "source": [
    "data = np.sort(np.array([8,1,4,3,4,5,7,5,3,5]))\n",
    "\n",
    "data1 = data[0:int(len(data)/2)]\n",
    "data2 = data[int(len(data)/2):]\n",
    "\n",
    "# Mu according to MLE\n",
    "def mean(data):\n",
    "    return sum(data)/len(data)\n",
    "\n",
    "# Variance according to MLE\n",
    "def variance(data, mu):\n",
    "    return np.sum(np.square(data-mu))/len(data)\n",
    "\n",
    "mu1 = mean(data1)\n",
    "mu2 = mean(data2)\n",
    "\n",
    "var1 = np.array(variance(data1, mu1))\n",
    "var2 = np.array(variance(data2, mu2))\n",
    "\n",
    "print('Data: {}'.format(data.T))\n",
    "print('First distribition: ({}, {}) \\nSecond distribution: ({}, {})'.format(mu1, var1, mu2, var2))"
   ]
  },
  {
   "cell_type": "markdown",
   "metadata": {},
   "source": [
    "$\\pi_{1} = \\pi_{2} = 0.5$ since an equal amount of points are drawn from both distributions."
   ]
  },
  {
   "cell_type": "markdown",
   "metadata": {},
   "source": [
    "### Q 3.2"
   ]
  },
  {
   "cell_type": "code",
   "execution_count": 248,
   "metadata": {},
   "outputs": [
    {
     "name": "stdout",
     "output_type": "stream",
     "text": [
      "Gamma for k=1: \n",
      "[0.599   0.8322  0.8322  0.70084 0.70084 0.3103  0.3103  0.3103  0.00111\n",
      " 0.00001]\n",
      "Gamma for k=2: \n",
      "[0.401   0.1678  0.1678  0.29916 0.29916 0.6897  0.6897  0.6897  0.99889\n",
      " 0.99999]\n"
     ]
    }
   ],
   "source": [
    "pi1 = pi2 = 0.5\n",
    "\n",
    "gamma_k1 = []\n",
    "gamma_k2 = []\n",
    "for p in data:\n",
    "    p1 = pi1*P(p, mu1, sigma1)\n",
    "    p2 = pi2*P(p, mu2, sigma2)\n",
    "    gamma_k1.append(p1/np.sum(p1 + p2))\n",
    "    gamma_k2.append(p2/np.sum(p1 + p2))\n",
    "    \n",
    "gamma_k1 = np.array(gamma_k1).flatten()\n",
    "gamma_k2 = np.array(gamma_k2).flatten()\n",
    "\n",
    "np.set_printoptions(precision=5, suppress=True)\n",
    "print('Gamma for k=1: \\n{}'.format(gamma_k1))\n",
    "print('Gamma for k=2: \\n{}'.format(gamma_k2))"
   ]
  },
  {
   "cell_type": "markdown",
   "metadata": {},
   "source": [
    "### Q 3.3"
   ]
  },
  {
   "cell_type": "code",
   "execution_count": 249,
   "metadata": {},
   "outputs": [
    {
     "name": "stdout",
     "output_type": "stream",
     "text": [
      "Data : [1 3 3 4 4 5 5 5 7 8]\n",
      "Theta0 = [(3.0,1.2), (6.0,1.6)]\n",
      "Theta1 = [(3.45,1.44), (5.39,3.80)]\n"
     ]
    }
   ],
   "source": [
    "\n",
    "# Book and presentation has different formulas\n",
    "def update_mu(gamma, x):\n",
    "    return np.sum(gamma*x)/np.sum(gamma)\n",
    "\n",
    "def update_variance(gamma, x, mu):\n",
    "    top = 0\n",
    "    bottom = 0\n",
    "    for n in range(len(x)):\n",
    "        bottom += gamma[n]\n",
    "        top += gamma[n]*np.square((x[n]-mu))\n",
    "    return top/bottom\n",
    "\n",
    "print('Data : {}'.format(data.T))\n",
    "mu_k1 = update_mu(gamma_k1, data)\n",
    "var_k1 = update_variance(gamma_k1, data, mu_k1)\n",
    "\n",
    "mu_k2 = update_mu(gamma_k2, data)\n",
    "var_k2 = update_variance(gamma_k2, data, mu_k2)\n",
    "\n",
    "print('Theta0 = [({},{}), ({},{})]'.format(mu1, var1, mu2, var2))\n",
    "print('Theta1 = [({:.2f},{:.2f}), ({:.2f},{:.2f})]'.format(mu_k1, var_k1, mu_k2, var_k2))"
   ]
  },
  {
   "cell_type": "code",
   "execution_count": null,
   "metadata": {},
   "outputs": [],
   "source": []
  }
 ],
 "metadata": {
  "colab": {
   "collapsed_sections": [],
   "name": "Hw5_2019.ipynb",
   "provenance": [],
   "version": "0.3.2"
  },
  "kernelspec": {
   "display_name": "Python 3",
   "language": "python",
   "name": "python3"
  },
  "language_info": {
   "codemirror_mode": {
    "name": "ipython",
    "version": 3
   },
   "file_extension": ".py",
   "mimetype": "text/x-python",
   "name": "python",
   "nbconvert_exporter": "python",
   "pygments_lexer": "ipython3",
   "version": "3.7.2"
  }
 },
 "nbformat": 4,
 "nbformat_minor": 1
}
